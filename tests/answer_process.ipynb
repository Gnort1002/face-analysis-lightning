{
 "cells": [
  {
   "cell_type": "code",
   "execution_count": 2,
   "metadata": {},
   "outputs": [],
   "source": [
    "import numpy as np\n",
    "import pandas as pd\n",
    "import json"
   ]
  },
  {
   "cell_type": "code",
   "execution_count": null,
   "metadata": {},
   "outputs": [],
   "source": [
    "# answers_no_bbox = pd.read_csv('/media/gnort/HDD6/Study/face-analysis-lightning/outputs/answer.csv')\n",
    "# answers_with_bbox = pd.read_csv('/media/gnort/HDD6/Study/face-analysis-lightning/dataset/public_test/bbox/answers.csv')\n",
    "# name_id_mapping = json.load(open('/media/gnort/HDD6/Study/face-analysis-lightning/dataset/public_test/file_name_to_image_id.json'))"
   ]
  },
  {
   "cell_type": "code",
   "execution_count": null,
   "metadata": {},
   "outputs": [],
   "source": [
    "# answers_no_bbox['image_id'] = answers_no_bbox['file_name'].apply(lambda x: name_id_mapping[x])\n",
    "# answers_no_bbox.sort_values(by=['image_id'], inplace=True)\n",
    "# answers_no_bbox"
   ]
  },
  {
   "cell_type": "code",
   "execution_count": 23,
   "metadata": {},
   "outputs": [],
   "source": [
    "answer_race = pd.read_csv(\"/media/gnort/HDD6/Study/face-analysis-lightning/outputs/answer_race_resnet50_focal.csv\")\n",
    "answer_1 = pd.read_csv(\"/media/gnort/HDD6/Study/face-analysis-lightning/dataset/public_test/answers/answer_1.csv\")"
   ]
  },
  {
   "cell_type": "code",
   "execution_count": null,
   "metadata": {},
   "outputs": [],
   "source": [
    "answer_race.head(50)"
   ]
  },
  {
   "cell_type": "code",
   "execution_count": 24,
   "metadata": {},
   "outputs": [],
   "source": [
    "df = answer_1.merge(answer_race,\n",
    "                      on='file_name',\n",
    "                      how='left')\n",
    "df = df.dropna(axis=1, how='any', inplace=False)\n",
    "df\n",
    "df.drop(columns=['race_x'], inplace=True, axis=1)\n",
    "df.rename(columns={'race_y':'race'}, inplace=True)\n",
    "df = df[['file_name',\n",
    "         'bbox',\n",
    "         'image_id',\n",
    "         'race',\n",
    "         'age',\n",
    "         'emotion',\n",
    "         'gender',\n",
    "         'skintone',\n",
    "         'masked']]\n",
    "df.to_csv(\"/media/gnort/HDD6/Study/face-analysis-lightning/dataset/public_test/answers/answer.csv\", index=False)"
   ]
  },
  {
   "cell_type": "code",
   "execution_count": 17,
   "metadata": {},
   "outputs": [
    {
     "data": {
      "text/plain": [
       "race_y\n",
       "Caucasian    1076\n",
       "Mongoloid    1051\n",
       "Negroid        47\n",
       "Name: count, dtype: int64"
      ]
     },
     "execution_count": 17,
     "metadata": {},
     "output_type": "execute_result"
    }
   ],
   "source": [
    "df[\"race_y\"].value_counts()"
   ]
  },
  {
   "cell_type": "code",
   "execution_count": null,
   "metadata": {},
   "outputs": [],
   "source": []
  }
 ],
 "metadata": {
  "kernelspec": {
   "display_name": "Python 3",
   "language": "python",
   "name": "python3"
  },
  "language_info": {
   "codemirror_mode": {
    "name": "ipython",
    "version": 3
   },
   "file_extension": ".py",
   "mimetype": "text/x-python",
   "name": "python",
   "nbconvert_exporter": "python",
   "pygments_lexer": "ipython3",
   "version": "3.10.0"
  }
 },
 "nbformat": 4,
 "nbformat_minor": 2
}
